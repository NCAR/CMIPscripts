{
 "cells": [
  {
   "cell_type": "markdown",
   "metadata": {},
   "source": [
    "<small><i>This notebook was put together by [Anderson Banihirwe](https://andersy005.github.io/) as part of [2017 CISL/SIParCS Research Project](https://ncar.github.io/PySpark4Climate/): **PySpark for Big Atmospheric & Oceanic Data Analysis**</i></small>"
   ]
  },
  {
   "cell_type": "markdown",
   "metadata": {},
   "source": [
    "# Median\n",
    "\n",
    "- A commonly used robust and resistant measure of central tendency.\n",
    "- Defined as the middle value when observations are ordered from smallest to largest.\n",
    "- Divides the dataset into two parts of equal size, with 50% of the values below the median and 50% of the values above the median.\n",
    "- Also known as the 50th percentile.\n",
    "- Insensitive to extreme values."
   ]
  },
  {
   "cell_type": "markdown",
   "metadata": {},
   "source": [
    "# Example:\n",
    "\n",
    "- Calculate the spatial median of temperature data over  North America for the period 2006-2010.\n",
    "- The dataset can be found on [NCAR's Glade](https://www2.cisl.ucar.edu/resources/storage-and-file-systems/glade-file-spaces): \n",
    "\n",
    "  - ```/glade/p/CMIP/CMIP5/output1/NOAA-GFDL/GFDL-ESM2M/rcp85/mon/atmos/Amon/r1i1p1/v20111228/ta/ta_Amon_GFDL-ESM2M_rcp85_r1i1p1_200601-201012.nc```"
   ]
  },
  {
   "cell_type": "markdown",
   "metadata": {},
   "source": [
    "# Step 1: Load Dataset in a Spark dataframe"
   ]
  },
  {
   "cell_type": "code",
   "execution_count": 1,
   "metadata": {
    "collapsed": true
   },
   "outputs": [],
   "source": [
    "from pyspark4climate import read\n",
    "from pyspark4climate.functions import shift_lon_udf\n",
    "from pyspark.sql import SparkSession\n",
    "import geopandas as gpd\n",
    "import pandas as pd\n",
    "import seaborn as sns\n",
    "import matplotlib\n",
    "matplotlib.style.use('ggplot')\n",
    "matplotlib.rcParams['figure.figsize'] = (12, 15)\n",
    "%matplotlib inline\n",
    "import matplotlib.pyplot as plt\n",
    "jet=plt.get_cmap('coolwarm')  # Used for multiple scatter plots"
   ]
  },
  {
   "cell_type": "code",
   "execution_count": 2,
   "metadata": {
    "collapsed": true
   },
   "outputs": [],
   "source": [
    "spark = SparkSession.builder.appName(\"median\").getOrCreate()\n",
    "sc = spark.sparkContext"
   ]
  },
  {
   "cell_type": "code",
   "execution_count": 3,
   "metadata": {},
   "outputs": [
    {
     "name": "stdout",
     "output_type": "stream",
     "text": [
      "netcdf ta_Amon_GFDL-ESM2M_rcp85_r1i1p1_200601-201012 {\r\n",
      "dimensions:\r\n",
      "\tplev = 17 ;\r\n",
      "\ttime = UNLIMITED ; // (60 currently)\r\n",
      "\tlat = 90 ;\r\n",
      "\tlon = 144 ;\r\n",
      "\tbnds = 2 ;\r\n",
      "variables:\r\n",
      "\tdouble plev(plev) ;\r\n",
      "\t\tplev:units = \"Pa\" ;\r\n",
      "\t\tplev:long_name = \"pressure\" ;\r\n",
      "\t\tplev:axis = \"Z\" ;\r\n",
      "\t\tplev:positive = \"down\" ;\r\n",
      "\t\tplev:standard_name = \"air_pressure\" ;\r\n",
      "\tdouble average_DT(time) ;\r\n",
      "\t\taverage_DT:long_name = \"Length of average period\" ;\r\n",
      "\t\taverage_DT:units = \"days\" ;\r\n",
      "\tdouble average_T1(time) ;\r\n",
      "\t\taverage_T1:long_name = \"Start time for average period\" ;\r\n",
      "\t\taverage_T1:units = \"days since 2006-01-01 00:00:00\" ;\r\n",
      "\tdouble average_T2(time) ;\r\n",
      "\t\taverage_T2:long_name = \"End time for average period\" ;\r\n",
      "\t\taverage_T2:units = \"days since 2006-01-01 00:00:00\" ;\r\n",
      "\tdouble lat(lat) ;\r\n",
      "\t\tlat:long_name = \"latitude\" ;\r\n",
      "\t\tlat:units = \"degrees_north\" ;\r\n",
      "\t\tlat:standard_name = \"latitude\" ;\r\n",
      "\t\tlat:axis = \"Y\" ;\r\n",
      "\t\tlat:bounds = \"lat_bnds\" ;\r\n",
      "\tdouble lon(lon) ;\r\n",
      "\t\tlon:long_name = \"longitude\" ;\r\n",
      "\t\tlon:units = \"degrees_east\" ;\r\n",
      "\t\tlon:standard_name = \"longitude\" ;\r\n",
      "\t\tlon:axis = \"X\" ;\r\n",
      "\t\tlon:bounds = \"lon_bnds\" ;\r\n",
      "\tdouble bnds(bnds) ;\r\n",
      "\t\tbnds:long_name = \"vertex number\" ;\r\n",
      "\t\tbnds:cartesian_axis = \"N\" ;\r\n",
      "\tfloat ta(time, plev, lat, lon) ;\r\n",
      "\t\tta:long_name = \"Air Temperature\" ;\r\n",
      "\t\tta:units = \"K\" ;\r\n",
      "\t\tta:valid_range = 100.f, 350.f ;\r\n",
      "\t\tta:missing_value = 1.e+20f ;\r\n",
      "\t\tta:cell_methods = \"time: mean\" ;\r\n",
      "\t\tta:_FillValue = 1.e+20f ;\r\n",
      "\t\tta:standard_name = \"air_temperature\" ;\r\n",
      "\t\tta:original_units = \"K\" ;\r\n",
      "\t\tta:original_name = \"temp\" ;\r\n",
      "\t\tta:cell_measures = \"area: areacella\" ;\r\n",
      "\t\tta:associated_files = \"baseURL: http://cmip-pcmdi.llnl.gov/CMIP5/dataLocation areacella: areacella_fx_GFDL-ESM2M_rcp85_r0i0p0.nc\" ;\r\n",
      "\tdouble time(time) ;\r\n",
      "\t\ttime:long_name = \"time\" ;\r\n",
      "\t\ttime:units = \"days since 2006-01-01 00:00:00\" ;\r\n",
      "\t\ttime:cartesian_axis = \"T\" ;\r\n",
      "\t\ttime:calendar_type = \"noleap\" ;\r\n",
      "\t\ttime:calendar = \"noleap\" ;\r\n",
      "\t\ttime:bounds = \"time_bnds\" ;\r\n",
      "\t\ttime:standard_name = \"time\" ;\r\n",
      "\t\ttime:axis = \"T\" ;\r\n",
      "\tdouble time_bnds(time, bnds) ;\r\n",
      "\t\ttime_bnds:long_name = \"time axis boundaries\" ;\r\n",
      "\t\ttime_bnds:units = \"days since 2006-01-01 00:00:00\" ;\r\n",
      "\tdouble lat_bnds(lat, bnds) ;\r\n",
      "\tdouble lon_bnds(lon, bnds) ;\r\n",
      "\r\n",
      "// global attributes:\r\n",
      "\t\t:title = \"NOAA GFDL GFDL-ESM2M, RCP8.5 (run 1) experiment output for CMIP5 AR5\" ;\r\n",
      "\t\t:institute_id = \"NOAA GFDL\" ;\r\n",
      "\t\t:source = \"GFDL-ESM2M 2010 ocean: MOM4 (MOM4p1_x1_Z50_cCM2M,Tripolar360x200L50); atmosphere: AM2 (AM2p14,M45L24); sea ice: SIS (SISp2,Tripolar360x200L50); land: LM3 (LM3p7_cESM,M45)\" ;\r\n",
      "\t\t:contact = \"gfdl.climate.model.info@noaa.gov\" ;\r\n",
      "\t\t:project_id = \"CMIP5\" ;\r\n",
      "\t\t:table_id = \"Table Amon (31 Jan 2011)\" ;\r\n",
      "\t\t:experiment_id = \"rcp85\" ;\r\n",
      "\t\t:realization = 1 ;\r\n",
      "\t\t:modeling_realm = \"atmos\" ;\r\n",
      "\t\t:tracking_id = \"095bd34a-27ca-4f5a-aaf2-ac2edba4317e\" ;\r\n",
      "\t\t:Conventions = \"CF-1.4\" ;\r\n",
      "\t\t:references = \"The GFDL Data Portal (http://nomads.gfdl.noaa.gov/) provides access to NOAA/GFDL\\'s publicly available model input and output data sets. From this web site one can view and download data sets and documentation, including those related to the GFDL coupled models experiments run for the IPCC\\'s 5th Assessment Report and the US CCSP.\" ;\r\n",
      "\t\t:comment = \"GFDL experiment name = ESM2M-HC1_2006-2100_all_rcp85_ZC1. PCMDI experiment name = RCP8.5 (run1). Initial conditions for this experiment were taken from 1 January 2006 of the parent experiment, ESM2M-C1_all_historical_HC1 (historical). Several forcing agents varied during the 95 year duration of the RCP8.5 experiment based upon the MESSAGE integrated assessment model for the 21st century. The time-varying forcing agents include the well-mixed greenhouse gases (CO2, CH4, N2O, halons), tropospheric and stratospheric O3, model-derived aerosol concentrations (sulfate, black and organic carbon, sea salt and dust), and land use transitions. Volcanic aerosols were zero and solar irradiance varied seasonally based upon late 20th century averages but with no interannual variation. The direct effect of tropospheric aerosols is calculated by the model, but not the indirect effects.\" ;\r\n",
      "\t\t:gfdl_experiment_name = \"ESM2M-HC1_2006-2100_all_rcp85_ZC1\" ;\r\n",
      "\t\t:creation_date = \"2011-08-12T06:08:37Z\" ;\r\n",
      "\t\t:model_id = \"GFDL-ESM2M\" ;\r\n",
      "\t\t:branch_time = \"52925\" ;\r\n",
      "\t\t:experiment = \"RCP8.5\" ;\r\n",
      "\t\t:forcing = \"GHG,SD,Oz,LU,SS,BC,MD,OC (GHG includes CO2, CH4, N2O, CFC11, CFC12, HCFC22, CFC113)\" ;\r\n",
      "\t\t:frequency = \"mon\" ;\r\n",
      "\t\t:initialization_method = 1 ;\r\n",
      "\t\t:parent_experiment_id = \"historical\" ;\r\n",
      "\t\t:physics_version = 1 ;\r\n",
      "\t\t:product = \"output1\" ;\r\n",
      "\t\t:institution = \"NOAA GFDL(201 Forrestal Rd, Princeton, NJ, 08540)\" ;\r\n",
      "\t\t:history = \"File was processed by fremetar (GFDL analog of CMOR). TripleID: [exper_id_NzrgHxy3PV,realiz_id_ntKPD70REo,run_id_fBzP3eBa0W]\" ;\r\n",
      "\t\t:parent_experiment_rip = \"r1i1p1\" ;\r\n",
      "}\r\n"
     ]
    }
   ],
   "source": [
    "!ncdump -h ../data/ta_Amon_GFDL-ESM2M_rcp85_r1i1p1_200601-201012.nc"
   ]
  },
  {
   "cell_type": "code",
   "execution_count": 4,
   "metadata": {
    "collapsed": true
   },
   "outputs": [],
   "source": [
    "filename='../data/ta_Amon_GFDL-ESM2M_rcp85_r1i1p1_200601-201012.nc'\n",
    "var = 'ta'"
   ]
  },
  {
   "cell_type": "code",
   "execution_count": 5,
   "metadata": {
    "collapsed": true
   },
   "outputs": [],
   "source": [
    "data = read.DataFrame(sc, (filename, var), mode='single')"
   ]
  },
  {
   "cell_type": "markdown",
   "metadata": {},
   "source": [
    "Pyspark4climate DataFrame class returns an object.\n",
    "In order to access spark's dataframe we need to do the following:"
   ]
  },
  {
   "cell_type": "code",
   "execution_count": 6,
   "metadata": {},
   "outputs": [
    {
     "data": {
      "text/plain": [
       "pyspark4climate.read.DataFrame"
      ]
     },
     "execution_count": 6,
     "metadata": {},
     "output_type": "execute_result"
    }
   ],
   "source": [
    "type(data)"
   ]
  },
  {
   "cell_type": "code",
   "execution_count": 7,
   "metadata": {},
   "outputs": [
    {
     "data": {
      "text/plain": [
       "pyspark.sql.dataframe.DataFrame"
      ]
     },
     "execution_count": 7,
     "metadata": {},
     "output_type": "execute_result"
    }
   ],
   "source": [
    "data_df = data.df\n",
    "type(data_df)"
   ]
  },
  {
   "cell_type": "code",
   "execution_count": 8,
   "metadata": {},
   "outputs": [
    {
     "name": "stdout",
     "output_type": "stream",
     "text": [
      "+-------------------+--------+------------------+------------------+----+\n",
      "|               time|    plev|               lat|               lon|  ta|\n",
      "+-------------------+--------+------------------+------------------+----+\n",
      "|2006-01-16 12:00:00|100000.0|-85.95505617977527|            256.25|null|\n",
      "|2006-01-16 12:00:00|100000.0|-85.95505617977527|            258.75|null|\n",
      "|2006-01-16 12:00:00|100000.0|-85.95505617977527|            261.25|null|\n",
      "|2006-01-16 12:00:00|100000.0|-85.95505617977527|            263.75|null|\n",
      "|2006-01-16 12:00:00|100000.0|-85.95505617977527|            266.25|null|\n",
      "|2006-01-16 12:00:00|100000.0|-85.95505617977527|            268.75|null|\n",
      "|2006-01-16 12:00:00|100000.0|-85.95505617977527|            271.25|null|\n",
      "|2006-01-16 12:00:00|100000.0|-85.95505617977527|273.74999999999994|null|\n",
      "|2006-01-16 12:00:00|100000.0|-85.95505617977527|            276.25|null|\n",
      "|2006-01-16 12:00:00|100000.0|-85.95505617977527|            278.75|null|\n",
      "|2006-01-16 12:00:00|100000.0|-71.79775280898876|236.24999999999997|null|\n",
      "|2006-01-16 12:00:00|100000.0|-71.79775280898876|            238.75|null|\n",
      "|2006-01-16 12:00:00|100000.0|-71.79775280898876|            241.25|null|\n",
      "|2006-01-16 12:00:00|100000.0|-71.79775280898876|            243.75|null|\n",
      "|2006-01-16 12:00:00|100000.0|-71.79775280898876|            246.25|null|\n",
      "|2006-01-16 12:00:00|100000.0|-71.79775280898876|            248.75|null|\n",
      "|2006-01-16 12:00:00|100000.0|-71.79775280898876|            251.25|null|\n",
      "|2006-01-16 12:00:00|100000.0|-71.79775280898876|            253.75|null|\n",
      "|2006-01-16 12:00:00|100000.0|-71.79775280898876|            256.25|null|\n",
      "|2006-01-16 12:00:00|100000.0|-71.79775280898876|            258.75|null|\n",
      "+-------------------+--------+------------------+------------------+----+\n",
      "only showing top 20 rows\n",
      "\n"
     ]
    }
   ],
   "source": [
    "data_df.show()"
   ]
  },
  {
   "cell_type": "code",
   "execution_count": 9,
   "metadata": {},
   "outputs": [
    {
     "name": "stdout",
     "output_type": "stream",
     "text": [
      "root\n",
      " |-- time: string (nullable = true)\n",
      " |-- plev: double (nullable = true)\n",
      " |-- lat: double (nullable = true)\n",
      " |-- lon: double (nullable = true)\n",
      " |-- ta: double (nullable = true)\n",
      "\n"
     ]
    }
   ],
   "source": [
    "# Print the schema of data_df dataframe\n",
    "data_df.printSchema()"
   ]
  },
  {
   "cell_type": "markdown",
   "metadata": {},
   "source": [
    "# Step 2: Shift longitudes on grid so that they are in range [-180 -> 180]\n",
    "\n",
    "To achieve this we will use ```pyspark4climate``` builtin function ```shift_grid_udf()```"
   ]
  },
  {
   "cell_type": "code",
   "execution_count": 10,
   "metadata": {
    "collapsed": true
   },
   "outputs": [],
   "source": [
    "# Shift grid and Drop the lon column\n",
    "data_df = data_df.withColumn(\"shifted_lon\", shift_lon_udf(data_df[\"lon\"])).cache()\n",
    "data_df = data_df.selectExpr(\"time\", \"plev\", \"lat\", \"shifted_lon as lon\", \"ta\")"
   ]
  },
  {
   "cell_type": "code",
   "execution_count": 11,
   "metadata": {},
   "outputs": [
    {
     "name": "stdout",
     "output_type": "stream",
     "text": [
      "+-------------------+--------+------------------+-------------------+----+\n",
      "|               time|    plev|               lat|                lon|  ta|\n",
      "+-------------------+--------+------------------+-------------------+----+\n",
      "|2006-01-16 12:00:00|100000.0|-85.95505617977527|            -103.75|null|\n",
      "|2006-01-16 12:00:00|100000.0|-85.95505617977527|            -101.25|null|\n",
      "|2006-01-16 12:00:00|100000.0|-85.95505617977527|             -98.75|null|\n",
      "|2006-01-16 12:00:00|100000.0|-85.95505617977527|             -96.25|null|\n",
      "|2006-01-16 12:00:00|100000.0|-85.95505617977527|             -93.75|null|\n",
      "|2006-01-16 12:00:00|100000.0|-85.95505617977527|             -91.25|null|\n",
      "|2006-01-16 12:00:00|100000.0|-85.95505617977527|             -88.75|null|\n",
      "|2006-01-16 12:00:00|100000.0|-85.95505617977527| -86.25000000000006|null|\n",
      "|2006-01-16 12:00:00|100000.0|-85.95505617977527|             -83.75|null|\n",
      "|2006-01-16 12:00:00|100000.0|-85.95505617977527|             -81.25|null|\n",
      "|2006-01-16 12:00:00|100000.0|-71.79775280898876|-123.75000000000003|null|\n",
      "|2006-01-16 12:00:00|100000.0|-71.79775280898876|            -121.25|null|\n",
      "|2006-01-16 12:00:00|100000.0|-71.79775280898876|            -118.75|null|\n",
      "|2006-01-16 12:00:00|100000.0|-71.79775280898876|            -116.25|null|\n",
      "|2006-01-16 12:00:00|100000.0|-71.79775280898876|            -113.75|null|\n",
      "|2006-01-16 12:00:00|100000.0|-71.79775280898876|            -111.25|null|\n",
      "|2006-01-16 12:00:00|100000.0|-71.79775280898876|            -108.75|null|\n",
      "|2006-01-16 12:00:00|100000.0|-71.79775280898876|            -106.25|null|\n",
      "|2006-01-16 12:00:00|100000.0|-71.79775280898876|            -103.75|null|\n",
      "|2006-01-16 12:00:00|100000.0|-71.79775280898876|            -101.25|null|\n",
      "+-------------------+--------+------------------+-------------------+----+\n",
      "only showing top 20 rows\n",
      "\n"
     ]
    }
   ],
   "source": [
    "data_df.show()"
   ]
  },
  {
   "cell_type": "markdown",
   "metadata": {},
   "source": [
    "# Step 3: Select Temporal and Spatial Domains\n",
    "\n",
    "Select North-America: Region with only values 60W to 130W, 20N to 70N"
   ]
  },
  {
   "cell_type": "code",
   "execution_count": 12,
   "metadata": {
    "collapsed": true
   },
   "outputs": [],
   "source": [
    "import pyspark.sql.functions as F"
   ]
  },
  {
   "cell_type": "code",
   "execution_count": 13,
   "metadata": {},
   "outputs": [
    {
     "name": "stdout",
     "output_type": "stream",
     "text": [
      "+-------------------+--------+------------------+-------------------+------------------+\n",
      "|               time|    plev|               lat|                lon|                ta|\n",
      "+-------------------+--------+------------------+-------------------+------------------+\n",
      "|2006-01-16 12:00:00|100000.0|21.235955056179776|-128.74999999999997|290.64520263671875|\n",
      "|2006-01-16 12:00:00| 70000.0|21.235955056179776|-128.74999999999997|278.41375732421875|\n",
      "|2006-01-16 12:00:00| 92500.0|21.235955056179776|-128.74999999999997| 284.8731384277344|\n",
      "|2006-01-16 12:00:00| 40000.0|21.235955056179776|-128.74999999999997|250.10055541992188|\n",
      "|2006-01-16 12:00:00| 60000.0|21.235955056179776|-128.74999999999997|  271.363037109375|\n",
      "|2006-01-16 12:00:00| 85000.0|21.235955056179776|-128.74999999999997|  284.496337890625|\n",
      "|2006-01-16 12:00:00| 10000.0|21.235955056179776|-128.74999999999997|200.11734008789062|\n",
      "|2006-01-16 12:00:00|  3000.0|21.235955056179776|-128.74999999999997|218.32974243164062|\n",
      "|2006-01-16 12:00:00|  2000.0|21.235955056179776|-128.74999999999997|      224.27734375|\n",
      "|2006-01-16 12:00:00|  7000.0|21.235955056179776|-128.74999999999997|205.61280822753906|\n",
      "|2006-01-16 12:00:00| 15000.0|21.235955056179776|-128.74999999999997| 208.1819610595703|\n",
      "|2006-01-16 12:00:00|  5000.0|21.235955056179776|-128.74999999999997|210.75625610351562|\n",
      "|2006-01-16 12:00:00| 30000.0|21.235955056179776|-128.74999999999997|235.12181091308594|\n",
      "|2006-01-16 12:00:00| 25000.0|21.235955056179776|-128.74999999999997|226.87403869628906|\n",
      "|2006-01-16 12:00:00| 50000.0|21.235955056179776|-128.74999999999997| 261.9516906738281|\n",
      "|2006-01-16 12:00:00| 20000.0|21.235955056179776|-128.74999999999997|  217.828369140625|\n",
      "|2006-01-16 12:00:00|  1000.0|21.235955056179776|-128.74999999999997| 232.8317108154297|\n",
      "|2006-01-16 12:00:00|  2000.0|21.235955056179776|-126.24999999999997|224.04461669921875|\n",
      "|2006-01-16 12:00:00| 40000.0|21.235955056179776|-126.24999999999997|250.02354431152344|\n",
      "|2006-01-16 12:00:00| 10000.0|21.235955056179776|-126.24999999999997| 200.3651580810547|\n",
      "+-------------------+--------+------------------+-------------------+------------------+\n",
      "only showing top 20 rows\n",
      "\n"
     ]
    }
   ],
   "source": [
    "df = data_df.filter((data_df[\"lon\"] <= -60) & (data_df[\"lon\"] >=-130) &\\\n",
    "                 (data_df[\"lat\"] >=20) & (data_df[\"lat\"] <=70))\\\n",
    "                 .orderBy(F.col('time'), F.col('lat'), F.col('lon'))\n",
    "df.show()"
   ]
  },
  {
   "cell_type": "code",
   "execution_count": 15,
   "metadata": {},
   "outputs": [
    {
     "data": {
      "text/plain": [
       "DataFrame[time: string, plev: double, lat: double, lon: double, ta: double]"
      ]
     },
     "execution_count": 15,
     "metadata": {},
     "output_type": "execute_result"
    }
   ],
   "source": [
    "df.cache()"
   ]
  },
  {
   "cell_type": "markdown",
   "metadata": {},
   "source": [
    "# Step 4: Calculate Spatial Median\n",
    "- This operation computes the spatial median of the data. The median longitude and median latitude values are located for each time step.\n",
    "\n",
    "- To compute the median using Spark, we will need to use **Spark Window function**. At its core, a window function calculates a return value for every input row of a table based on a group of rows, called the Frame. Every input row can have a unique frame associated with it. This characteristic of window functions makes them more powerful than other functions and allows users to express various data processing tasks that are hard (if not impossible) to be expressed without window functions in a concise way. You can get more details at this link: (https://databricks.com/blog/2015/07/15/introducing-window-functions-in-spark-sql.html)\n",
    "\n",
    "- As a rule of thumb window definitions should always contain ```PARTITION BY``` clause otherwise Spark will move all data to a single partition. ```ORDER BY``` is required for some functions, while in different cases (typically aggregates) may be optional.\n",
    "\n",
    "- There are also two optional which can be used to define window span ```ROWS BETWEEN``` and ```RANGE BETWEEN```."
   ]
  },
  {
   "cell_type": "code",
   "execution_count": 16,
   "metadata": {
    "collapsed": true
   },
   "outputs": [],
   "source": [
    "from pyspark.sql.window import Window"
   ]
  },
  {
   "cell_type": "markdown",
   "metadata": {},
   "source": [
    "Once a function is marked as a window function, the next key step is to define the Window Specification associated with this function. A window specification defines which rows are included in the frame associated with a given input row. A window specification includes three parts:\n",
    "\n",
    "- Partitioning Specification: controls which rows will be in the same partition with the given row. In our case, we will make sure all rows having the same value for the time column are collected to the same machine before ordering and calculating the frame.  If no partitioning specification is given, then all data must be collected to a single machine.\n",
    "- Ordering Specification: controls the way that rows in a partition are ordered, determining the position of the given row in its partition.\n",
    "- Frame Specification: states which rows will be included in the frame for the current input row, based on their relative position to the current row. We don't need this in our case."
   ]
  },
  {
   "cell_type": "code",
   "execution_count": 17,
   "metadata": {
    "collapsed": true
   },
   "outputs": [],
   "source": [
    "windowSpec = Window.partitionBy(df['time']).orderBy(df['ta'])"
   ]
  },
  {
   "cell_type": "markdown",
   "metadata": {},
   "source": [
    "- ```percent_rank()``` returns the relative rank (i.e. percentile) of rows within a window partition."
   ]
  },
  {
   "cell_type": "code",
   "execution_count": 18,
   "metadata": {},
   "outputs": [
    {
     "name": "stdout",
     "output_type": "stream",
     "text": [
      "+-------------------+----+------------+----------+\n",
      "|               time|  ta|percent_rank|row_number|\n",
      "+-------------------+----+------------+----------+\n",
      "|2008-03-15 12:00:00|null|         0.0|         1|\n",
      "|2008-03-15 12:00:00|null|         0.0|         2|\n",
      "|2008-03-15 12:00:00|null|         0.0|         3|\n",
      "|2008-03-15 12:00:00|null|         0.0|         4|\n",
      "|2008-03-15 12:00:00|null|         0.0|         5|\n",
      "|2008-03-15 12:00:00|null|         0.0|         6|\n",
      "|2008-03-15 12:00:00|null|         0.0|         7|\n",
      "|2008-03-15 12:00:00|null|         0.0|         8|\n",
      "|2008-03-15 12:00:00|null|         0.0|         9|\n",
      "|2008-03-15 12:00:00|null|         0.0|        10|\n",
      "|2008-03-15 12:00:00|null|         0.0|        11|\n",
      "|2008-03-15 12:00:00|null|         0.0|        12|\n",
      "|2008-03-15 12:00:00|null|         0.0|        13|\n",
      "|2008-03-15 12:00:00|null|         0.0|        14|\n",
      "|2008-03-15 12:00:00|null|         0.0|        15|\n",
      "|2008-03-15 12:00:00|null|         0.0|        16|\n",
      "|2008-03-15 12:00:00|null|         0.0|        17|\n",
      "|2008-03-15 12:00:00|null|         0.0|        18|\n",
      "|2008-03-15 12:00:00|null|         0.0|        19|\n",
      "|2008-03-15 12:00:00|null|         0.0|        20|\n",
      "+-------------------+----+------------+----------+\n",
      "only showing top 20 rows\n",
      "\n"
     ]
    }
   ],
   "source": [
    "df = df.select(\"time\", \"ta\", F.percent_rank().over(windowSpec).alias(\"percent_rank\"),\n",
    "              F.row_number().over(windowSpec).alias(\"row_number\"))\n",
    "df.show()"
   ]
  },
  {
   "cell_type": "code",
   "execution_count": 19,
   "metadata": {},
   "outputs": [
    {
     "name": "stdout",
     "output_type": "stream",
     "text": [
      "+-------+------------------+\n",
      "|summary|        row_number|\n",
      "+-------+------------------+\n",
      "|  count|            714000|\n",
      "|   mean|            5950.5|\n",
      "| stddev|3435.2364951777067|\n",
      "|    min|                 1|\n",
      "|    max|             11900|\n",
      "+-------+------------------+\n",
      "\n"
     ]
    }
   ],
   "source": [
    "df.describe('row_number').show()"
   ]
  },
  {
   "cell_type": "code",
   "execution_count": 20,
   "metadata": {
    "collapsed": true
   },
   "outputs": [],
   "source": [
    "# For each time step there are 11900 rows\n",
    "# Because our ta values are now order in ascending order, the median will be located at\n",
    "# row_count / 2 + 1 if row_count is even or at row_count + 1 / 2 if row_count is odd.\n",
    "row_count = 11900\n",
    "row_num = (11900 / 2) + 1"
   ]
  },
  {
   "cell_type": "code",
   "execution_count": 21,
   "metadata": {},
   "outputs": [],
   "source": [
    "spatial_median = df.select(df.time, df.ta, df.percent_rank, \n",
    "                           df.row_number.between(row_num, row_num).alias('median_loc')).cache()"
   ]
  },
  {
   "cell_type": "code",
   "execution_count": 24,
   "metadata": {},
   "outputs": [
    {
     "name": "stdout",
     "output_type": "stream",
     "text": [
      "+-------------------+------------------+------------------+----------+\n",
      "|               time|                ta|      percent_rank|median_loc|\n",
      "+-------------------+------------------+------------------+----------+\n",
      "|2006-01-16 12:00:00|220.62489318847656|0.5000420203378435|      true|\n",
      "|2006-02-15 00:00:00|222.18905639648438|0.5000420203378435|      true|\n",
      "|2006-03-16 12:00:00|223.45294189453125|0.5000420203378435|      true|\n",
      "|2006-04-16 00:00:00|223.97760009765625|0.5000420203378435|      true|\n",
      "|2006-05-16 12:00:00|227.18658447265625|0.5000420203378435|      true|\n",
      "|2006-06-16 00:00:00|228.31100463867188|0.5000420203378435|      true|\n",
      "|2006-07-16 12:00:00| 229.8331298828125|0.5000420203378435|      true|\n",
      "|2006-08-16 12:00:00|229.47373962402344|0.5000420203378435|      true|\n",
      "|2006-09-16 00:00:00|227.04518127441406|0.5000420203378435|      true|\n",
      "|2006-10-16 12:00:00| 223.9647674560547|0.5000420203378435|      true|\n",
      "|2006-11-16 00:00:00|   222.23876953125|0.5000420203378435|      true|\n",
      "|2006-12-16 12:00:00|221.29600524902344|0.5000420203378435|      true|\n",
      "|2007-01-16 12:00:00|224.01747131347656|0.5000420203378435|      true|\n",
      "|2007-02-15 00:00:00|222.90509033203125|0.5000420203378435|      true|\n",
      "|2007-03-16 12:00:00| 222.1317901611328|0.5000420203378435|      true|\n",
      "|2007-04-16 00:00:00|  224.408935546875|0.5000420203378435|      true|\n",
      "|2007-05-16 12:00:00| 227.2884521484375|0.5000420203378435|      true|\n",
      "|2007-06-16 00:00:00|229.27304077148438|0.5000420203378435|      true|\n",
      "|2007-07-16 12:00:00|230.11766052246094|0.5000420203378435|      true|\n",
      "|2007-08-16 12:00:00| 229.9031524658203|0.5000420203378435|      true|\n",
      "+-------------------+------------------+------------------+----------+\n",
      "only showing top 20 rows\n",
      "\n"
     ]
    }
   ],
   "source": [
    "median = spatial_median.filter(spatial_median.median_loc == True).orderBy(\"time\")\n",
    "median.show()"
   ]
  },
  {
   "cell_type": "markdown",
   "metadata": {},
   "source": [
    "# Step 5: Plot the spatial median data"
   ]
  },
  {
   "cell_type": "code",
   "execution_count": 34,
   "metadata": {},
   "outputs": [
    {
     "data": {
      "text/html": [
       "<div>\n",
       "<style>\n",
       "    .dataframe thead tr:only-child th {\n",
       "        text-align: right;\n",
       "    }\n",
       "\n",
       "    .dataframe thead th {\n",
       "        text-align: left;\n",
       "    }\n",
       "\n",
       "    .dataframe tbody tr th {\n",
       "        vertical-align: top;\n",
       "    }\n",
       "</style>\n",
       "<table border=\"1\" class=\"dataframe\">\n",
       "  <thead>\n",
       "    <tr style=\"text-align: right;\">\n",
       "      <th></th>\n",
       "      <th>ta</th>\n",
       "      <th>percent_rank</th>\n",
       "    </tr>\n",
       "  </thead>\n",
       "  <tbody>\n",
       "    <tr>\n",
       "      <th>count</th>\n",
       "      <td>60.000000</td>\n",
       "      <td>60.000000</td>\n",
       "    </tr>\n",
       "    <tr>\n",
       "      <th>mean</th>\n",
       "      <td>224.984187</td>\n",
       "      <td>0.500042</td>\n",
       "    </tr>\n",
       "    <tr>\n",
       "      <th>std</th>\n",
       "      <td>3.163610</td>\n",
       "      <td>0.000000</td>\n",
       "    </tr>\n",
       "    <tr>\n",
       "      <th>min</th>\n",
       "      <td>220.095398</td>\n",
       "      <td>0.500042</td>\n",
       "    </tr>\n",
       "    <tr>\n",
       "      <th>25%</th>\n",
       "      <td>222.240623</td>\n",
       "      <td>0.500042</td>\n",
       "    </tr>\n",
       "    <tr>\n",
       "      <th>50%</th>\n",
       "      <td>223.997536</td>\n",
       "      <td>0.500042</td>\n",
       "    </tr>\n",
       "    <tr>\n",
       "      <th>75%</th>\n",
       "      <td>227.544090</td>\n",
       "      <td>0.500042</td>\n",
       "    </tr>\n",
       "    <tr>\n",
       "      <th>max</th>\n",
       "      <td>230.117661</td>\n",
       "      <td>0.500042</td>\n",
       "    </tr>\n",
       "  </tbody>\n",
       "</table>\n",
       "</div>"
      ],
      "text/plain": [
       "               ta  percent_rank\n",
       "count   60.000000     60.000000\n",
       "mean   224.984187      0.500042\n",
       "std      3.163610      0.000000\n",
       "min    220.095398      0.500042\n",
       "25%    222.240623      0.500042\n",
       "50%    223.997536      0.500042\n",
       "75%    227.544090      0.500042\n",
       "max    230.117661      0.500042"
      ]
     },
     "execution_count": 34,
     "metadata": {},
     "output_type": "execute_result"
    }
   ],
   "source": [
    "# convert the spark dataframe to pandas dataframe for visualization\n",
    "df = median.toPandas()\n",
    "df.describe()"
   ]
  },
  {
   "cell_type": "code",
   "execution_count": 35,
   "metadata": {},
   "outputs": [
    {
     "data": {
      "text/html": [
       "<div>\n",
       "<style>\n",
       "    .dataframe thead tr:only-child th {\n",
       "        text-align: right;\n",
       "    }\n",
       "\n",
       "    .dataframe thead th {\n",
       "        text-align: left;\n",
       "    }\n",
       "\n",
       "    .dataframe tbody tr th {\n",
       "        vertical-align: top;\n",
       "    }\n",
       "</style>\n",
       "<table border=\"1\" class=\"dataframe\">\n",
       "  <thead>\n",
       "    <tr style=\"text-align: right;\">\n",
       "      <th></th>\n",
       "      <th>time</th>\n",
       "      <th>ta</th>\n",
       "      <th>percent_rank</th>\n",
       "      <th>median_loc</th>\n",
       "    </tr>\n",
       "  </thead>\n",
       "  <tbody>\n",
       "    <tr>\n",
       "      <th>0</th>\n",
       "      <td>2006-01-16 12:00:00</td>\n",
       "      <td>220.624893</td>\n",
       "      <td>0.500042</td>\n",
       "      <td>True</td>\n",
       "    </tr>\n",
       "    <tr>\n",
       "      <th>1</th>\n",
       "      <td>2006-02-15 00:00:00</td>\n",
       "      <td>222.189056</td>\n",
       "      <td>0.500042</td>\n",
       "      <td>True</td>\n",
       "    </tr>\n",
       "    <tr>\n",
       "      <th>2</th>\n",
       "      <td>2006-03-16 12:00:00</td>\n",
       "      <td>223.452942</td>\n",
       "      <td>0.500042</td>\n",
       "      <td>True</td>\n",
       "    </tr>\n",
       "    <tr>\n",
       "      <th>3</th>\n",
       "      <td>2006-04-16 00:00:00</td>\n",
       "      <td>223.977600</td>\n",
       "      <td>0.500042</td>\n",
       "      <td>True</td>\n",
       "    </tr>\n",
       "    <tr>\n",
       "      <th>4</th>\n",
       "      <td>2006-05-16 12:00:00</td>\n",
       "      <td>227.186584</td>\n",
       "      <td>0.500042</td>\n",
       "      <td>True</td>\n",
       "    </tr>\n",
       "  </tbody>\n",
       "</table>\n",
       "</div>"
      ],
      "text/plain": [
       "                  time          ta  percent_rank  median_loc\n",
       "0  2006-01-16 12:00:00  220.624893      0.500042        True\n",
       "1  2006-02-15 00:00:00  222.189056      0.500042        True\n",
       "2  2006-03-16 12:00:00  223.452942      0.500042        True\n",
       "3  2006-04-16 00:00:00  223.977600      0.500042        True\n",
       "4  2006-05-16 12:00:00  227.186584      0.500042        True"
      ]
     },
     "execution_count": 35,
     "metadata": {},
     "output_type": "execute_result"
    }
   ],
   "source": [
    "df.head()"
   ]
  },
  {
   "cell_type": "code",
   "execution_count": 36,
   "metadata": {},
   "outputs": [
    {
     "data": {
      "text/html": [
       "<div>\n",
       "<style>\n",
       "    .dataframe thead tr:only-child th {\n",
       "        text-align: right;\n",
       "    }\n",
       "\n",
       "    .dataframe thead th {\n",
       "        text-align: left;\n",
       "    }\n",
       "\n",
       "    .dataframe tbody tr th {\n",
       "        vertical-align: top;\n",
       "    }\n",
       "</style>\n",
       "<table border=\"1\" class=\"dataframe\">\n",
       "  <thead>\n",
       "    <tr style=\"text-align: right;\">\n",
       "      <th></th>\n",
       "      <th>ta</th>\n",
       "    </tr>\n",
       "    <tr>\n",
       "      <th>time</th>\n",
       "      <th></th>\n",
       "    </tr>\n",
       "  </thead>\n",
       "  <tbody>\n",
       "    <tr>\n",
       "      <th>2006-01-16 12:00:00</th>\n",
       "      <td>220.624893</td>\n",
       "    </tr>\n",
       "    <tr>\n",
       "      <th>2006-02-15 00:00:00</th>\n",
       "      <td>222.189056</td>\n",
       "    </tr>\n",
       "    <tr>\n",
       "      <th>2006-03-16 12:00:00</th>\n",
       "      <td>223.452942</td>\n",
       "    </tr>\n",
       "    <tr>\n",
       "      <th>2006-04-16 00:00:00</th>\n",
       "      <td>223.977600</td>\n",
       "    </tr>\n",
       "    <tr>\n",
       "      <th>2006-05-16 12:00:00</th>\n",
       "      <td>227.186584</td>\n",
       "    </tr>\n",
       "  </tbody>\n",
       "</table>\n",
       "</div>"
      ],
      "text/plain": [
       "                             ta\n",
       "time                           \n",
       "2006-01-16 12:00:00  220.624893\n",
       "2006-02-15 00:00:00  222.189056\n",
       "2006-03-16 12:00:00  223.452942\n",
       "2006-04-16 00:00:00  223.977600\n",
       "2006-05-16 12:00:00  227.186584"
      ]
     },
     "execution_count": 36,
     "metadata": {},
     "output_type": "execute_result"
    }
   ],
   "source": [
    "df = df.set_index('time').drop(['percent_rank', 'median_loc'], axis=1)\n",
    "df.head()"
   ]
  },
  {
   "cell_type": "code",
   "execution_count": 38,
   "metadata": {},
   "outputs": [
    {
     "data": {
      "image/png": "[encoded data removed]",
      "text/plain": [
       "<matplotlib.figure.Figure at 0x10fcff810>"
      ]
     },
     "metadata": {},
     "output_type": "display_data"
    }
   ],
   "source": [
    "ax = df['ta'].plot(legend=True, figsize=(16, 8))\n",
    "ax.set_xlabel(\"Time range [Jan-01-2006; ....; Dec-31-2010]\")\n",
    "ax.set_ylabel(\"Spatial Median Temperature [K]]\")\n",
    "ax.set_title(\"Spatial Median of Temperature at 60W to 130W, 20N to 70N for Jan 2006 - Dec 2010\")\n",
    "plt.show()"
   ]
  },
  {
   "cell_type": "markdown",
   "metadata": {},
   "source": [
    "The spatial median time series looks similar to the spatial average time series from the previous example (https://github.com/NCAR/CMIPscripts/blob/master/pyspark/Statistical-Techniques/01-Measures-of-Central-Tendency/01-mean.ipynb). Yet, even though the two images look similar, they are not identical. In a non-symmetrical dataset such as this, the median is different from the mean."
   ]
  }
 ],
 "metadata": {
  "kernelspec": {
   "display_name": "Python 2",
   "language": "python",
   "name": "python2"
  },
  "language_info": {
   "codemirror_mode": {
    "name": "ipython",
    "version": 2
   },
   "file_extension": ".py",
   "mimetype": "text/x-python",
   "name": "python",
   "nbconvert_exporter": "python",
   "pygments_lexer": "ipython2",
   "version": "2.7.13"
  }
 },
 "nbformat": 4,
 "nbformat_minor": 2
}
